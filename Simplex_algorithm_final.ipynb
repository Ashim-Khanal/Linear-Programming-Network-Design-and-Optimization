{
 "cells": [
  {
   "cell_type": "code",
   "execution_count": 29,
   "id": "english-alfred",
   "metadata": {},
   "outputs": [],
   "source": [
    "import pandas as pd\n",
    "import numpy as np\n",
    "import time\n",
    "start_time = time.time()"
   ]
  },
  {
   "cell_type": "code",
   "execution_count": 30,
   "id": "elementary-production",
   "metadata": {},
   "outputs": [],
   "source": [
    "#reading csv file and storing it in a dataframe\n",
    "data = pd.read_csv('simplex_data.csv')"
   ]
  },
  {
   "cell_type": "code",
   "execution_count": 31,
   "id": "exceptional-nigeria",
   "metadata": {},
   "outputs": [],
   "source": [
    "# extract data from csv file and store in respective variables\n",
    "\n",
    "m = int(data.loc[0]['m'])                         # number of rows of matrix A\n",
    "n = int(data.loc[0]['n'])                         # number of column of matrix A\n",
    "c = list(data.loc[0:n-1]['c'])                    # cost vector (row vector)\n",
    "for i in range(m):\n",
    "    c.append(0)\n",
    "c = np.array(c)\n",
    "#print(\"Cost Vector is: \",c)\n",
    "b = np.array(data.loc[0:m-1]['b'])                 # b vector or the RHS vector\n",
    "#print(\"Initial Solution vector is: \",b)\n",
    "\n",
    "A = np.zeros((m,n))                                # decision varibales coefficient matrix\n",
    "\n",
    "#lOOP FOR ASSIGNING ELEMENTS TO MATRIX A\n",
    "k = 0\n",
    "for i in range(m):\n",
    "    for j in range(n):\n",
    "        A[i][j] = int(data.loc[k]['A'])\n",
    "        k += 1\n",
    "#print(\"Matrix A in standard form in standard form is:\\n\", A)\n",
    "\n",
    "#initial basis matrix B\n",
    "B = np.identity(m)\n",
    "#print(\"Initial Basis matrix is:\\n\", B)\n",
    "\n",
    "#Adding identity matrix to the A matrix (adding initial basic feasible matrix)\n",
    "A = np.c_[A,B]                                       # .c_ stacks matrix B at the right side of A\n",
    "#print(\"Matrix A after converting into standard form is given as:\\n\", A)\n",
    "\n",
    "zj_cj_list = []                                      #list to record all the values of z_j (j is all non basic variables)"
   ]
  },
  {
   "cell_type": "code",
   "execution_count": 32,
   "id": "powered-wrong",
   "metadata": {},
   "outputs": [],
   "source": [
    "#find inverse of basic feasible matrix as B_inv\n",
    "def inverse(matrix):                        #function to find matrix inverse when argument is the matrix\n",
    "    return np.linalg.inv(matrix)\n",
    "B_inv = inverse(B)\n",
    "#print(\"Intial Basis Inverse Matrix is:\\n \", B_inv)\n",
    "\n",
    "b_ = B_inv @ b                              # b_ calculates the value of basic variables at each iteration\n",
    "#print(\"Initial solution is:\\n\", b_)\n",
    "\n",
    "#finding a_j\n",
    "a_i = []                                    # list that indicates what column of A are in basis\n",
    "for i in range(m):\n",
    "    a_i.append(n+i)                         #columns start from number 0 in python (e.g 2 indicates third column in python)\n",
    "a_j = []                                    #list that reocrd what column of A are non basic\n",
    "for j in range(n):\n",
    "    a_j.append(j)\n",
    "#print(\"The list of index of column of matrix A that are in basis is:\\n\", a_i)\n",
    "#print(\"The list of index of column of matrix A that are non-basis is:\\n\", a_j)\n",
    "\n",
    "#finding c_b \n",
    "c_b = []\n",
    "for items in a_i:\n",
    "    c_b.append(c[items])\n",
    "c_j = []\n",
    "for items in a_j:\n",
    "    c_j.append(c[items])\n",
    "#print(\"The cost vector of basis is:\\n\", c_b)\n",
    "#print(\"The cost vector of non basic decision variables:\\n\", c_j)\n",
    "\n",
    "#finding objective function value\n",
    "z = c_b @ B_inv @ b # @ method does matrix multiplication of a matrix and a vector\n",
    "#print(\"The initial objective function value is:\\n\", z)\n",
    "\n",
    "W = c_b @ B_inv\n",
    "#print(\"W vector is:\\n\", W)"
   ]
  },
  {
   "cell_type": "code",
   "execution_count": 33,
   "id": "decreased-bobby",
   "metadata": {},
   "outputs": [],
   "source": [
    "# populating zj_cj_list\n",
    "count = 0 \n",
    "for items in a_j: \n",
    "    zj_cj_list.append(c_b @ B_inv @ A[:,items] - c_j[count])\n",
    "    count += 1 \n",
    "#print(\"zj_cj_list is:\\n\", zj_cj_list)"
   ]
  },
  {
   "cell_type": "code",
   "execution_count": 34,
   "id": "guilty-professor",
   "metadata": {},
   "outputs": [],
   "source": [
    "#making a list for basic and non basic variables\n",
    "#x_b, x_n =[], []\n",
    "#for j in range(n):\n",
    "    #x_n.append(0)\n",
    "#x_b = B_inv @ b - B_inv @ A[:,a_j] @ x_n  #calculating x_b\n",
    "#x_b"
   ]
  },
  {
   "cell_type": "code",
   "execution_count": 35,
   "id": "conventional-croatia",
   "metadata": {
    "scrolled": false
   },
   "outputs": [
    {
     "name": "stdout",
     "output_type": "stream",
     "text": [
      "The optimal value of given maximization objective function is:  20000.0\n",
      "Basic Variable x3 = 20.0\n",
      "Basic Variable x2 = 50.0\n",
      "The value of remaining decision varibales is 0\n",
      "The time taken to run the algorithm is:  0.9198753833770752 seconds\n"
     ]
    }
   ],
   "source": [
    "Minimum = min(zj_cj_list)\n",
    "while Minimum < 0:\n",
    "    # finding minimum of zj - cj list \n",
    "    entering = zj_cj_list.index(Minimum) # index of entering variable\n",
    "    #print(entering)\n",
    "\n",
    "    #find the exiting variable\n",
    "\n",
    "    y_ik, x_k_list = [], []     #check required\n",
    "    y_ik = B_inv @ A[:,entering]\n",
    "    #print(\"y is:\",y_ik)\n",
    "\n",
    "    for i in range(len(y_ik)):\n",
    "        x_k_list.append(b_[i] / y_ik[i])     #minimum ratio test\n",
    "    x_k = np.argmin(x_k_list) #gives the index of x_k_list where the value is minimum ()\n",
    "    #print(\"exiting index is: \",x_k)\n",
    "    temp = a_i[x_k]\n",
    "    a_i[x_k] = entering\n",
    "    a_j[entering] = temp\n",
    "\n",
    "    #updating cost basis vector\n",
    "    temp = c_b[x_k]\n",
    "    c_b[x_k] = c_j[entering]\n",
    "    c_j[entering] = temp\n",
    "\n",
    "    # updating Basis matrix and calculating B_inv\n",
    "    B = A[:,a_i]\n",
    "    B_inv = inverse(B)\n",
    "    \n",
    "    b_ = B_inv @ b\n",
    "    for i in range(len(zj_cj_list)):\n",
    "        zj_cj_list[i] = (c_b @ B_inv @ A[:,a_j])[i] - c_j[i]\n",
    "    Minimum = min(zj_cj_list)\n",
    "    z = c_b @ b_\n",
    "print (\"The optimal value of given maximization objective function is: \", z)\n",
    "\n",
    "# Assigning the decision variables values which are in the basis and all non basic variables are zero.\n",
    "i = 0\n",
    "for item in a_i:\n",
    "    print(\"Basic Variable x{} =\".format(item+1), b_[i])\n",
    "    i += 1\n",
    "print(\"The value of remaining decision varibales is 0\")\n",
    "print(\"The time taken to run the algorithm is: \", time.time() - start_time, \"seconds\")"
   ]
  },
  {
   "cell_type": "code",
   "execution_count": null,
   "id": "stable-frequency",
   "metadata": {},
   "outputs": [],
   "source": []
  }
 ],
 "metadata": {
  "kernelspec": {
   "display_name": "Python 3",
   "language": "python",
   "name": "python3"
  },
  "language_info": {
   "codemirror_mode": {
    "name": "ipython",
    "version": 3
   },
   "file_extension": ".py",
   "mimetype": "text/x-python",
   "name": "python",
   "nbconvert_exporter": "python",
   "pygments_lexer": "ipython3",
   "version": "3.9.1"
  }
 },
 "nbformat": 4,
 "nbformat_minor": 5
}
